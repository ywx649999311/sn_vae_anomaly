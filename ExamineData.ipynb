{
 "cells": [
  {
   "cell_type": "code",
   "execution_count": 1,
   "id": "991117d2-2664-41c3-bb2b-18ce76d1d1f9",
   "metadata": {
    "tags": []
   },
   "outputs": [],
   "source": [
    "import pandas as pd\n",
    "# import jax.numpy as jnp\n",
    "import numpy as np\n",
    "# from jax import jit\n",
    "from matplotlib import pyplot as plt"
   ]
  },
  {
   "cell_type": "code",
   "execution_count": 2,
   "id": "140295ce-4ac9-4fbd-8294-7a9d70df962e",
   "metadata": {
    "tags": []
   },
   "outputs": [],
   "source": [
    "lcs = pd.read_csv(f\"data/plasticc_test_lightcurves_01.csv\", compression=\"gzip\")\n",
    "lcs = lcs.sort_values([\"object_id\", \"passband\", \"mjd\"])\n",
    "mjd_min = np.floor(lcs.mjd.min() - 10)\n",
    "mjd_max = np.floor(lcs.mjd.max() + 10)"
   ]
  },
  {
   "cell_type": "code",
   "execution_count": 3,
   "id": "06d57ba0-e9f7-4592-b5c9-a632d90e0aae",
   "metadata": {
    "tags": []
   },
   "outputs": [],
   "source": [
    "def linear_interpolation(x, xp, fp):\n",
    "    md = np.median(fp)\n",
    "    xp = np.insert(xp, 0, 59572)\n",
    "    xp = np.append(xp, 60684)\n",
    "    fp = np.insert(fp, 0, md)\n",
    "    fp = np.append(fp, md)\n",
    "    indices = np.searchsorted(xp, x) - 1\n",
    "    indices = np.clip(indices, 0, len(xp) - 2)\n",
    "\n",
    "    x0, x1 = xp[indices], xp[indices + 1]\n",
    "    y0, y1 = fp[indices], fp[indices + 1]\n",
    "\n",
    "    slope = (y1 - y0) / (x1 - x0)\n",
    "    y = y0 + slope * (x - x0)\n",
    "\n",
    "    return y"
   ]
  },
  {
   "cell_type": "code",
   "execution_count": 4,
   "id": "062fd360-0f44-435a-b214-aa58d6572f9c",
   "metadata": {},
   "outputs": [
    {
     "data": {
      "text/html": [
       "<div>\n",
       "<style scoped>\n",
       "    .dataframe tbody tr th:only-of-type {\n",
       "        vertical-align: middle;\n",
       "    }\n",
       "\n",
       "    .dataframe tbody tr th {\n",
       "        vertical-align: top;\n",
       "    }\n",
       "\n",
       "    .dataframe thead th {\n",
       "        text-align: right;\n",
       "    }\n",
       "</style>\n",
       "<table border=\"1\" class=\"dataframe\">\n",
       "  <thead>\n",
       "    <tr style=\"text-align: right;\">\n",
       "      <th></th>\n",
       "      <th>object_id</th>\n",
       "      <th>mjd</th>\n",
       "      <th>passband</th>\n",
       "      <th>flux</th>\n",
       "      <th>flux_err</th>\n",
       "      <th>detected_bool</th>\n",
       "    </tr>\n",
       "  </thead>\n",
       "  <tbody>\n",
       "    <tr>\n",
       "      <th>10</th>\n",
       "      <td>13</td>\n",
       "      <td>59818.2740</td>\n",
       "      <td>0</td>\n",
       "      <td>1.962846</td>\n",
       "      <td>1.795587</td>\n",
       "      <td>0</td>\n",
       "    </tr>\n",
       "    <tr>\n",
       "      <th>11</th>\n",
       "      <td>13</td>\n",
       "      <td>59819.2541</td>\n",
       "      <td>0</td>\n",
       "      <td>-1.697929</td>\n",
       "      <td>2.433431</td>\n",
       "      <td>0</td>\n",
       "    </tr>\n",
       "  </tbody>\n",
       "</table>\n",
       "</div>"
      ],
      "text/plain": [
       "    object_id         mjd  passband      flux  flux_err  detected_bool\n",
       "10         13  59818.2740         0  1.962846  1.795587              0\n",
       "11         13  59819.2541         0 -1.697929  2.433431              0"
      ]
     },
     "execution_count": 4,
     "metadata": {},
     "output_type": "execute_result"
    }
   ],
   "source": [
    "lcs.head(2)"
   ]
  },
  {
   "cell_type": "markdown",
   "id": "ed0e5c1a-b4b9-4095-9ee1-3f3b645e7f4e",
   "metadata": {},
   "source": [
    "### 1. Begin"
   ]
  },
  {
   "cell_type": "code",
   "execution_count": 5,
   "id": "b4a411fc-6a44-422d-bca3-3d5df043de97",
   "metadata": {
    "tags": []
   },
   "outputs": [],
   "source": [
    "old_gp = lcs.groupby([\"object_id\", \"passband\"], group_keys=False)"
   ]
  },
  {
   "cell_type": "markdown",
   "id": "06efb532-2f6b-4060-a91d-d2b1ee67cf83",
   "metadata": {},
   "source": [
    "#### Linear filling"
   ]
  },
  {
   "cell_type": "code",
   "execution_count": 6,
   "id": "a0b108fb-f7d7-4b62-b415-b6377600a775",
   "metadata": {
    "tags": []
   },
   "outputs": [],
   "source": [
    "t_fill = np.linspace(mjd_min + 5, mjd_max - 5, 72)\n",
    "new_lcs = old_gp.apply(\n",
    "    lambda x: linear_interpolation(t_fill, x.mjd.values, x.flux.values),\n",
    ")"
   ]
  },
  {
   "cell_type": "markdown",
   "id": "6a7a5609-3689-4a44-b52c-396ffcd8c47e",
   "metadata": {},
   "source": [
    "#### Into dataframes"
   ]
  },
  {
   "cell_type": "code",
   "execution_count": 7,
   "id": "5f6f1df8-e5dc-4f28-a8b6-5553538ed020",
   "metadata": {
    "tags": []
   },
   "outputs": [],
   "source": [
    "# %%time\n",
    "new_lc_dfs = []\n",
    "for idx in new_lcs.index:\n",
    "    df = pd.DataFrame({\"flux\": pd.DataFrame(new_lcs).loc[idx].values[0].copy()})\n",
    "    df[\"object_id\"] = idx[0]\n",
    "    df[\"passband\"] = idx[1]\n",
    "    df[\"mjd\"] = t_fill\n",
    "    new_lc_dfs.append(df)\n",
    "new_df = pd.concat(new_lc_dfs)[[\"object_id\", \"passband\", \"mjd\", \"flux\"]]"
   ]
  },
  {
   "cell_type": "code",
   "execution_count": 8,
   "id": "c0a12783-96ee-4dc9-a0e3-fe77c1cc6807",
   "metadata": {},
   "outputs": [],
   "source": [
    "del lcs, old_gp"
   ]
  },
  {
   "cell_type": "markdown",
   "id": "fdb66169-da74-4439-86a9-857ec6177365",
   "metadata": {},
   "source": [
    "#### Add Normalized flux"
   ]
  },
  {
   "cell_type": "code",
   "execution_count": 10,
   "id": "08698342-60e8-4da6-b7cd-962d6aa4e826",
   "metadata": {
    "tags": []
   },
   "outputs": [],
   "source": [
    "new_gp = new_df.groupby([\"object_id\", \"passband\"], group_keys=False)\n",
    "new_df[\"flux_norm\"] = new_gp[\"flux\"].apply(\n",
    "    lambda x: (x - x.min()) / (x.max() - x.min()), \n",
    "    # include_groups=False\n",
    ")"
   ]
  },
  {
   "cell_type": "markdown",
   "id": "a0bf02b5-8be1-4e38-90af-f60fb726e169",
   "metadata": {},
   "source": [
    "#### Save"
   ]
  },
  {
   "cell_type": "code",
   "execution_count": 13,
   "id": "bff2d977",
   "metadata": {},
   "outputs": [
    {
     "data": {
      "text/html": [
       "<div>\n",
       "<style scoped>\n",
       "    .dataframe tbody tr th:only-of-type {\n",
       "        vertical-align: middle;\n",
       "    }\n",
       "\n",
       "    .dataframe tbody tr th {\n",
       "        vertical-align: top;\n",
       "    }\n",
       "\n",
       "    .dataframe thead th {\n",
       "        text-align: right;\n",
       "    }\n",
       "</style>\n",
       "<table border=\"1\" class=\"dataframe\">\n",
       "  <thead>\n",
       "    <tr style=\"text-align: right;\">\n",
       "      <th></th>\n",
       "      <th>object_id</th>\n",
       "      <th>passband</th>\n",
       "      <th>mjd</th>\n",
       "      <th>flux</th>\n",
       "      <th>flux_norm</th>\n",
       "    </tr>\n",
       "  </thead>\n",
       "  <tbody>\n",
       "    <tr>\n",
       "      <th>0</th>\n",
       "      <td>13</td>\n",
       "      <td>0</td>\n",
       "      <td>59577.000000</td>\n",
       "      <td>0.125404</td>\n",
       "      <td>0.562753</td>\n",
       "    </tr>\n",
       "    <tr>\n",
       "      <th>1</th>\n",
       "      <td>13</td>\n",
       "      <td>0</td>\n",
       "      <td>59592.521127</td>\n",
       "      <td>0.243606</td>\n",
       "      <td>0.579247</td>\n",
       "    </tr>\n",
       "    <tr>\n",
       "      <th>2</th>\n",
       "      <td>13</td>\n",
       "      <td>0</td>\n",
       "      <td>59608.042254</td>\n",
       "      <td>0.361809</td>\n",
       "      <td>0.595740</td>\n",
       "    </tr>\n",
       "    <tr>\n",
       "      <th>3</th>\n",
       "      <td>13</td>\n",
       "      <td>0</td>\n",
       "      <td>59623.563380</td>\n",
       "      <td>0.480011</td>\n",
       "      <td>0.612234</td>\n",
       "    </tr>\n",
       "    <tr>\n",
       "      <th>4</th>\n",
       "      <td>13</td>\n",
       "      <td>0</td>\n",
       "      <td>59639.084507</td>\n",
       "      <td>0.598214</td>\n",
       "      <td>0.628728</td>\n",
       "    </tr>\n",
       "  </tbody>\n",
       "</table>\n",
       "</div>"
      ],
      "text/plain": [
       "   object_id  passband           mjd      flux  flux_norm\n",
       "0         13         0  59577.000000  0.125404   0.562753\n",
       "1         13         0  59592.521127  0.243606   0.579247\n",
       "2         13         0  59608.042254  0.361809   0.595740\n",
       "3         13         0  59623.563380  0.480011   0.612234\n",
       "4         13         0  59639.084507  0.598214   0.628728"
      ]
     },
     "execution_count": 13,
     "metadata": {},
     "output_type": "execute_result"
    }
   ],
   "source": [
    "new_df.head()"
   ]
  },
  {
   "cell_type": "code",
   "execution_count": 14,
   "id": "08f73e4c",
   "metadata": {},
   "outputs": [],
   "source": [
    "new_df.to_parquet('data/lc1.parquet')"
   ]
  },
  {
   "cell_type": "code",
   "execution_count": 12,
   "id": "704f62d9-6a31-45e7-ba0b-9e30beef1b15",
   "metadata": {
    "tags": []
   },
   "outputs": [],
   "source": [
    "# old_lto_parquet.get_group(key)\n",
    "# new_lc = new_gp.get_group(key)\n",
    "\n",
    "# new_lc"
   ]
  },
  {
   "cell_type": "code",
   "execution_count": 36,
   "id": "427481aa-abe9-461f-9112-7785370a4a0d",
   "metadata": {
    "scrolled": true,
    "tags": []
   },
   "outputs": [],
   "source": [
    "# for key in new_lcs.index[:30]:\n",
    "#     fig = plt.figure()\n",
    "#     old_lc = old_gp.get_group(key)\n",
    "#     plt.scatter(old_lc.mjd, old_lc.flux)\n",
    "\n",
    "#     new_lc = new_gp.get_group(key)\n",
    "#     plt.scatter(new_lc.mjd, new_lc.flux_norm)\n",
    "#     plt.title(key)"
   ]
  },
  {
   "cell_type": "code",
   "execution_count": null,
   "id": "61776055-a0b8-45f1-829e-d9b1c8cc4814",
   "metadata": {},
   "outputs": [],
   "source": []
  }
 ],
 "metadata": {
  "kernelspec": {
   "display_name": "dho2",
   "language": "python",
   "name": "python3"
  },
  "language_info": {
   "codemirror_mode": {
    "name": "ipython",
    "version": 3
   },
   "file_extension": ".py",
   "mimetype": "text/x-python",
   "name": "python",
   "nbconvert_exporter": "python",
   "pygments_lexer": "ipython3",
   "version": "3.8.15"
  },
  "widgets": {
   "application/vnd.jupyter.widget-state+json": {
    "state": {},
    "version_major": 2,
    "version_minor": 0
   }
  }
 },
 "nbformat": 4,
 "nbformat_minor": 5
}
